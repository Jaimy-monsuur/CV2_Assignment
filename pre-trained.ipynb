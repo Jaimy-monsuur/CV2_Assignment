{
 "cells": [
  {
   "cell_type": "code",
   "execution_count": 2,
   "metadata": {
    "collapsed": true
   },
   "outputs": [],
   "source": [
    "import pandas as pd\n",
    "import os\n",
    "import numpy as np\n",
    "from PIL import Image\n",
    "\n",
    "import pandas as pd\n",
    "import os\n",
    "\n",
    "# Step 1: Prepare the data\n",
    "# Load the CSV file\n",
    "df = pd.read_csv(\"data/genre.csv\")\n",
    "\n",
    "# get only the first 2000 rows\n",
    "\n",
    "# Load the preprocessed image data\n",
    "image_folder = \"data/clean_images\"\n",
    "\n",
    "# Remove entries where the image file does not exist\n",
    "existing_images = []\n",
    "for imdb_id in df[\"imdbID\"]:\n",
    "    image_path = os.path.join(image_folder, imdb_id + \".jpg\")\n",
    "    if os.path.exists(image_path):\n",
    "        existing_images.append(imdb_id)\n",
    "\n",
    "df = df[df[\"imdbID\"].isin(existing_images)]\n",
    "\n",
    "# Reset the index of the DataFrame\n",
    "df.reset_index(drop=True, inplace=True)\n",
    "\n",
    "# Print the updated DataFrame\n",
    "df.head()\n",
    "\n",
    "# save the updated dataframe\n",
    "df.to_csv(\"data/genre.csv\", index=False)\n",
    "\n",
    "\n"
   ]
  },
  {
   "cell_type": "code",
   "execution_count": null,
   "outputs": [],
   "source": [],
   "metadata": {
    "collapsed": false,
    "pycharm": {
     "is_executing": true
    }
   }
  }
 ],
 "metadata": {
  "kernelspec": {
   "display_name": "Python 3",
   "language": "python",
   "name": "python3"
  },
  "language_info": {
   "codemirror_mode": {
    "name": "ipython",
    "version": 2
   },
   "file_extension": ".py",
   "mimetype": "text/x-python",
   "name": "python",
   "nbconvert_exporter": "python",
   "pygments_lexer": "ipython2",
   "version": "2.7.6"
  }
 },
 "nbformat": 4,
 "nbformat_minor": 0
}
